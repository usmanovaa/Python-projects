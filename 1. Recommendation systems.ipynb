{
 "cells": [
  {
   "cell_type": "markdown",
   "id": "a800ee70",
   "metadata": {},
   "source": [
    "#### Table of contents: \n",
    "\n",
    "1. Popularity Based Recommendation System\n",
    "\n",
    "     - Movies with the highest rating\n",
    "     - Number of views\n",
    "     \n",
    "2. Content Based Recommendendation System\n",
    "\n",
    "     - Document Term Frequency Matrix\n",
    "     - Cosine Similarity\n",
    "     \n",
    "    \n",
    "3. Classification-based Collaborative Filtering Systems"
   ]
  },
  {
   "cell_type": "markdown",
   "id": "18060929",
   "metadata": {},
   "source": [
    "# 1. Popularity Based Recommendation System"
   ]
  },
  {
   "cell_type": "code",
   "execution_count": 2,
   "id": "134453b2",
   "metadata": {},
   "outputs": [],
   "source": [
    "import numpy as np\n",
    "import pandas as pd"
   ]
  },
  {
   "cell_type": "code",
   "execution_count": 3,
   "id": "0d142d1e",
   "metadata": {},
   "outputs": [
    {
     "data": {
      "text/html": [
       "<div>\n",
       "<style scoped>\n",
       "    .dataframe tbody tr th:only-of-type {\n",
       "        vertical-align: middle;\n",
       "    }\n",
       "\n",
       "    .dataframe tbody tr th {\n",
       "        vertical-align: top;\n",
       "    }\n",
       "\n",
       "    .dataframe thead th {\n",
       "        text-align: right;\n",
       "    }\n",
       "</style>\n",
       "<table border=\"1\" class=\"dataframe\">\n",
       "  <thead>\n",
       "    <tr style=\"text-align: right;\">\n",
       "      <th></th>\n",
       "      <th>movieId</th>\n",
       "      <th>title</th>\n",
       "      <th>genres</th>\n",
       "    </tr>\n",
       "  </thead>\n",
       "  <tbody>\n",
       "    <tr>\n",
       "      <th>0</th>\n",
       "      <td>1</td>\n",
       "      <td>Toy Story (1995)</td>\n",
       "      <td>Adventure|Animation|Children|Comedy|Fantasy</td>\n",
       "    </tr>\n",
       "    <tr>\n",
       "      <th>1</th>\n",
       "      <td>2</td>\n",
       "      <td>Jumanji (1995)</td>\n",
       "      <td>Adventure|Children|Fantasy</td>\n",
       "    </tr>\n",
       "    <tr>\n",
       "      <th>2</th>\n",
       "      <td>3</td>\n",
       "      <td>Grumpier Old Men (1995)</td>\n",
       "      <td>Comedy|Romance</td>\n",
       "    </tr>\n",
       "    <tr>\n",
       "      <th>3</th>\n",
       "      <td>4</td>\n",
       "      <td>Waiting to Exhale (1995)</td>\n",
       "      <td>Comedy|Drama|Romance</td>\n",
       "    </tr>\n",
       "    <tr>\n",
       "      <th>4</th>\n",
       "      <td>5</td>\n",
       "      <td>Father of the Bride Part II (1995)</td>\n",
       "      <td>Comedy</td>\n",
       "    </tr>\n",
       "  </tbody>\n",
       "</table>\n",
       "</div>"
      ],
      "text/plain": [
       "   movieId                               title  \\\n",
       "0        1                    Toy Story (1995)   \n",
       "1        2                      Jumanji (1995)   \n",
       "2        3             Grumpier Old Men (1995)   \n",
       "3        4            Waiting to Exhale (1995)   \n",
       "4        5  Father of the Bride Part II (1995)   \n",
       "\n",
       "                                        genres  \n",
       "0  Adventure|Animation|Children|Comedy|Fantasy  \n",
       "1                   Adventure|Children|Fantasy  \n",
       "2                               Comedy|Romance  \n",
       "3                         Comedy|Drama|Romance  \n",
       "4                                       Comedy  "
      ]
     },
     "execution_count": 3,
     "metadata": {},
     "output_type": "execute_result"
    }
   ],
   "source": [
    "movies = pd.read_csv('data/movies.csv')\n",
    "movies.head()"
   ]
  },
  {
   "cell_type": "code",
   "execution_count": 4,
   "id": "5e971a87",
   "metadata": {},
   "outputs": [
    {
     "data": {
      "text/html": [
       "<div>\n",
       "<style scoped>\n",
       "    .dataframe tbody tr th:only-of-type {\n",
       "        vertical-align: middle;\n",
       "    }\n",
       "\n",
       "    .dataframe tbody tr th {\n",
       "        vertical-align: top;\n",
       "    }\n",
       "\n",
       "    .dataframe thead th {\n",
       "        text-align: right;\n",
       "    }\n",
       "</style>\n",
       "<table border=\"1\" class=\"dataframe\">\n",
       "  <thead>\n",
       "    <tr style=\"text-align: right;\">\n",
       "      <th></th>\n",
       "      <th>userId</th>\n",
       "      <th>movieId</th>\n",
       "      <th>rating</th>\n",
       "      <th>timestamp</th>\n",
       "    </tr>\n",
       "  </thead>\n",
       "  <tbody>\n",
       "    <tr>\n",
       "      <th>0</th>\n",
       "      <td>1</td>\n",
       "      <td>31</td>\n",
       "      <td>2.5</td>\n",
       "      <td>1260759144</td>\n",
       "    </tr>\n",
       "    <tr>\n",
       "      <th>1</th>\n",
       "      <td>1</td>\n",
       "      <td>1029</td>\n",
       "      <td>3.0</td>\n",
       "      <td>1260759179</td>\n",
       "    </tr>\n",
       "    <tr>\n",
       "      <th>2</th>\n",
       "      <td>1</td>\n",
       "      <td>1061</td>\n",
       "      <td>3.0</td>\n",
       "      <td>1260759182</td>\n",
       "    </tr>\n",
       "    <tr>\n",
       "      <th>3</th>\n",
       "      <td>1</td>\n",
       "      <td>1129</td>\n",
       "      <td>2.0</td>\n",
       "      <td>1260759185</td>\n",
       "    </tr>\n",
       "    <tr>\n",
       "      <th>4</th>\n",
       "      <td>1</td>\n",
       "      <td>1172</td>\n",
       "      <td>4.0</td>\n",
       "      <td>1260759205</td>\n",
       "    </tr>\n",
       "  </tbody>\n",
       "</table>\n",
       "</div>"
      ],
      "text/plain": [
       "   userId  movieId  rating   timestamp\n",
       "0       1       31     2.5  1260759144\n",
       "1       1     1029     3.0  1260759179\n",
       "2       1     1061     3.0  1260759182\n",
       "3       1     1129     2.0  1260759185\n",
       "4       1     1172     4.0  1260759205"
      ]
     },
     "execution_count": 4,
     "metadata": {},
     "output_type": "execute_result"
    }
   ],
   "source": [
    "ratings = pd.read_csv('data/ratings.csv')\n",
    "ratings.head()"
   ]
  },
  {
   "cell_type": "code",
   "execution_count": 5,
   "id": "bb057ad4",
   "metadata": {},
   "outputs": [],
   "source": [
    "movie_data = pd.merge(ratings, movies, on='movieId')"
   ]
  },
  {
   "cell_type": "code",
   "execution_count": 6,
   "id": "aa4cc52e",
   "metadata": {},
   "outputs": [
    {
     "data": {
      "text/html": [
       "<div>\n",
       "<style scoped>\n",
       "    .dataframe tbody tr th:only-of-type {\n",
       "        vertical-align: middle;\n",
       "    }\n",
       "\n",
       "    .dataframe tbody tr th {\n",
       "        vertical-align: top;\n",
       "    }\n",
       "\n",
       "    .dataframe thead th {\n",
       "        text-align: right;\n",
       "    }\n",
       "</style>\n",
       "<table border=\"1\" class=\"dataframe\">\n",
       "  <thead>\n",
       "    <tr style=\"text-align: right;\">\n",
       "      <th></th>\n",
       "      <th>userId</th>\n",
       "      <th>movieId</th>\n",
       "      <th>rating</th>\n",
       "      <th>timestamp</th>\n",
       "      <th>title</th>\n",
       "      <th>genres</th>\n",
       "    </tr>\n",
       "  </thead>\n",
       "  <tbody>\n",
       "    <tr>\n",
       "      <th>0</th>\n",
       "      <td>1</td>\n",
       "      <td>31</td>\n",
       "      <td>2.5</td>\n",
       "      <td>1260759144</td>\n",
       "      <td>Dangerous Minds (1995)</td>\n",
       "      <td>Drama</td>\n",
       "    </tr>\n",
       "    <tr>\n",
       "      <th>1</th>\n",
       "      <td>7</td>\n",
       "      <td>31</td>\n",
       "      <td>3.0</td>\n",
       "      <td>851868750</td>\n",
       "      <td>Dangerous Minds (1995)</td>\n",
       "      <td>Drama</td>\n",
       "    </tr>\n",
       "  </tbody>\n",
       "</table>\n",
       "</div>"
      ],
      "text/plain": [
       "   userId  movieId  rating   timestamp                   title genres\n",
       "0       1       31     2.5  1260759144  Dangerous Minds (1995)  Drama\n",
       "1       7       31     3.0   851868750  Dangerous Minds (1995)  Drama"
      ]
     },
     "execution_count": 6,
     "metadata": {},
     "output_type": "execute_result"
    }
   ],
   "source": [
    "movie_data.head(2)"
   ]
  },
  {
   "cell_type": "code",
   "execution_count": 7,
   "id": "75d98a66",
   "metadata": {},
   "outputs": [
    {
     "name": "stdout",
     "output_type": "stream",
     "text": [
      "(100004, 6)\n",
      "(100004, 4)\n",
      "(9125, 3)\n"
     ]
    }
   ],
   "source": [
    "print(movie_data.shape)\n",
    "print(ratings.shape)\n",
    "print(movies.shape)"
   ]
  },
  {
   "cell_type": "code",
   "execution_count": 8,
   "id": "5c41bef8",
   "metadata": {},
   "outputs": [
    {
     "name": "stdout",
     "output_type": "stream",
     "text": [
      "number of genres: 901\n",
      "number of movies: 9066\n",
      "number of users: 671\n"
     ]
    }
   ],
   "source": [
    "print('number of genres:', len(movie_data['genres'].unique()))\n",
    "print('number of movies:',len(movie_data['movieId'].unique()))\n",
    "print('number of users:',len(movie_data['userId'].unique()))"
   ]
  },
  {
   "cell_type": "markdown",
   "id": "040393bb",
   "metadata": {},
   "source": [
    "### Criteria for Popularity Based Recommendation Systems\n",
    "\n",
    "1. Movies with the highest rating\n",
    "2. Number of views\n",
    "\n",
    "#### Average ratings of movies"
   ]
  },
  {
   "cell_type": "code",
   "execution_count": 9,
   "id": "418b358f",
   "metadata": {},
   "outputs": [
    {
     "data": {
      "text/plain": [
       "title\n",
       "Ivan Vasilievich: Back to the Future (Ivan Vasilievich menyaet professiyu) (1973)    5.0\n",
       "Alien Escape (1995)                                                                  5.0\n",
       "Boiling Point (1993)                                                                 5.0\n",
       "Bone Tomahawk (2015)                                                                 5.0\n",
       "Borgman (2013)                                                                       5.0\n",
       "Name: rating, dtype: float64"
      ]
     },
     "execution_count": 9,
     "metadata": {},
     "output_type": "execute_result"
    }
   ],
   "source": [
    "movie_data.groupby('title')['rating'].mean().sort_values(ascending=False).head()"
   ]
  },
  {
   "cell_type": "markdown",
   "id": "150ca353",
   "metadata": {},
   "source": [
    "#### Ratings count"
   ]
  },
  {
   "cell_type": "code",
   "execution_count": 10,
   "id": "306f42cd",
   "metadata": {},
   "outputs": [
    {
     "data": {
      "text/plain": [
       "title\n",
       "Forrest Gump (1994)                          341\n",
       "Pulp Fiction (1994)                          324\n",
       "Shawshank Redemption, The (1994)             311\n",
       "Silence of the Lambs, The (1991)             304\n",
       "Star Wars: Episode IV - A New Hope (1977)    291\n",
       "Name: rating, dtype: int64"
      ]
     },
     "execution_count": 10,
     "metadata": {},
     "output_type": "execute_result"
    }
   ],
   "source": [
    "movie_data.groupby('title')['rating'].count().sort_values(ascending=False).head()"
   ]
  },
  {
   "cell_type": "markdown",
   "id": "2b49bd83",
   "metadata": {},
   "source": [
    "#### Adding average rating and count of views to the table "
   ]
  },
  {
   "cell_type": "code",
   "execution_count": 11,
   "id": "4fa3ff67",
   "metadata": {},
   "outputs": [],
   "source": [
    "ratings_mean = pd.DataFrame(movie_data.groupby('title')['rating'].mean())"
   ]
  },
  {
   "cell_type": "code",
   "execution_count": 12,
   "id": "15ad02ec",
   "metadata": {},
   "outputs": [],
   "source": [
    "ratings_count = pd.DataFrame(movie_data.groupby('title')['rating'].count())"
   ]
  },
  {
   "cell_type": "code",
   "execution_count": 13,
   "id": "18972717",
   "metadata": {},
   "outputs": [],
   "source": [
    "ratings_mean_count = pd.merge(ratings_mean, ratings_count, on='title', suffixes=['', '_count'])"
   ]
  },
  {
   "cell_type": "code",
   "execution_count": 14,
   "id": "ad3a18ec",
   "metadata": {},
   "outputs": [],
   "source": [
    "ratings_mean_count['rating'] = round(ratings_mean_count['rating'],1)"
   ]
  },
  {
   "cell_type": "markdown",
   "id": "138a96e4",
   "metadata": {},
   "source": [
    "#### Printing Top movies"
   ]
  },
  {
   "cell_type": "code",
   "execution_count": 15,
   "id": "da448d9e",
   "metadata": {},
   "outputs": [],
   "source": [
    "ratings_mean_count = ratings_mean_count[(ratings_mean_count['rating'] > 4) & (ratings_mean_count['rating_count'] > 100)]"
   ]
  },
  {
   "cell_type": "code",
   "execution_count": 16,
   "id": "c58c0edf",
   "metadata": {},
   "outputs": [
    {
     "data": {
      "text/html": [
       "<div>\n",
       "<style scoped>\n",
       "    .dataframe tbody tr th:only-of-type {\n",
       "        vertical-align: middle;\n",
       "    }\n",
       "\n",
       "    .dataframe tbody tr th {\n",
       "        vertical-align: top;\n",
       "    }\n",
       "\n",
       "    .dataframe thead th {\n",
       "        text-align: right;\n",
       "    }\n",
       "</style>\n",
       "<table border=\"1\" class=\"dataframe\">\n",
       "  <thead>\n",
       "    <tr style=\"text-align: right;\">\n",
       "      <th></th>\n",
       "      <th>rating</th>\n",
       "      <th>rating_count</th>\n",
       "    </tr>\n",
       "    <tr>\n",
       "      <th>title</th>\n",
       "      <th></th>\n",
       "      <th></th>\n",
       "    </tr>\n",
       "  </thead>\n",
       "  <tbody>\n",
       "    <tr>\n",
       "      <th>Shawshank Redemption, The (1994)</th>\n",
       "      <td>4.5</td>\n",
       "      <td>311</td>\n",
       "    </tr>\n",
       "    <tr>\n",
       "      <th>Godfather, The (1972)</th>\n",
       "      <td>4.5</td>\n",
       "      <td>200</td>\n",
       "    </tr>\n",
       "    <tr>\n",
       "      <th>Usual Suspects, The (1995)</th>\n",
       "      <td>4.4</td>\n",
       "      <td>201</td>\n",
       "    </tr>\n",
       "    <tr>\n",
       "      <th>Godfather: Part II, The (1974)</th>\n",
       "      <td>4.4</td>\n",
       "      <td>135</td>\n",
       "    </tr>\n",
       "    <tr>\n",
       "      <th>Fargo (1996)</th>\n",
       "      <td>4.3</td>\n",
       "      <td>224</td>\n",
       "    </tr>\n",
       "    <tr>\n",
       "      <th>Pulp Fiction (1994)</th>\n",
       "      <td>4.3</td>\n",
       "      <td>324</td>\n",
       "    </tr>\n",
       "    <tr>\n",
       "      <th>One Flew Over the Cuckoo's Nest (1975)</th>\n",
       "      <td>4.3</td>\n",
       "      <td>144</td>\n",
       "    </tr>\n",
       "    <tr>\n",
       "      <th>Schindler's List (1993)</th>\n",
       "      <td>4.3</td>\n",
       "      <td>244</td>\n",
       "    </tr>\n",
       "    <tr>\n",
       "      <th>Fight Club (1999)</th>\n",
       "      <td>4.2</td>\n",
       "      <td>202</td>\n",
       "    </tr>\n",
       "    <tr>\n",
       "      <th>Matrix, The (1999)</th>\n",
       "      <td>4.2</td>\n",
       "      <td>259</td>\n",
       "    </tr>\n",
       "  </tbody>\n",
       "</table>\n",
       "</div>"
      ],
      "text/plain": [
       "                                        rating  rating_count\n",
       "title                                                       \n",
       "Shawshank Redemption, The (1994)           4.5           311\n",
       "Godfather, The (1972)                      4.5           200\n",
       "Usual Suspects, The (1995)                 4.4           201\n",
       "Godfather: Part II, The (1974)             4.4           135\n",
       "Fargo (1996)                               4.3           224\n",
       "Pulp Fiction (1994)                        4.3           324\n",
       "One Flew Over the Cuckoo's Nest (1975)     4.3           144\n",
       "Schindler's List (1993)                    4.3           244\n",
       "Fight Club (1999)                          4.2           202\n",
       "Matrix, The (1999)                         4.2           259"
      ]
     },
     "execution_count": 16,
     "metadata": {},
     "output_type": "execute_result"
    }
   ],
   "source": [
    "ratings_mean_count = ratings_mean_count.sort_values(ascending=False, by = 'rating')\n",
    "ratings_mean_count.head(10)"
   ]
  },
  {
   "cell_type": "markdown",
   "id": "26b35529",
   "metadata": {},
   "source": [
    "# Content Based Recommendendation System"
   ]
  },
  {
   "cell_type": "code",
   "execution_count": 58,
   "id": "5a83aa58",
   "metadata": {},
   "outputs": [],
   "source": [
    "#### Calculating Cosine Similarity\n",
    "\n",
    "# from math import * \n",
    "\n",
    "# def square_rooted(x):\n",
    "#     return round(sqrt(sum([a*a for a in x])),3)\n",
    "\n",
    "# def cosine_similarity(x,y):\n",
    "#     numerator = sum(a*b for a,b in zip(x,y))\n",
    "#     denominator = square_rooted(x) * square_rooted(y)\n",
    "#     return round(numerator/denominator,3)"
   ]
  },
  {
   "cell_type": "code",
   "execution_count": 59,
   "id": "588e77dc",
   "metadata": {},
   "outputs": [],
   "source": [
    "# print(cosine_similarity([1,2,3,4], [54,2131, 34,21]))\n",
    "# print(cosine_similarity([1,2,3,4], [-1, 2, -3, 4]))\n",
    "# print(cosine_similarity([1,2,3,4], [1, 2, 3.5, 4]))"
   ]
  },
  {
   "cell_type": "code",
   "execution_count": 60,
   "id": "ccce4df5",
   "metadata": {},
   "outputs": [],
   "source": [
    "import pandas as pd\n",
    "import numpy as np\n",
    "from sklearn.metrics.pairwise import cosine_similarity\n",
    "from sklearn.feature_extraction.text import CountVectorizer  #for document term frequency matrix"
   ]
  },
  {
   "cell_type": "code",
   "execution_count": 61,
   "id": "6de6172b",
   "metadata": {},
   "outputs": [],
   "source": [
    "pd.set_option('display.max_columns', 100)\n",
    "df = pd.read_csv('https://query.data.world/s/uikepcpffyo2nhig52xxeevdialfl7')"
   ]
  },
  {
   "cell_type": "code",
   "execution_count": 62,
   "id": "66b96bac",
   "metadata": {},
   "outputs": [
    {
     "data": {
      "text/plain": [
       "(250, 38)"
      ]
     },
     "execution_count": 62,
     "metadata": {},
     "output_type": "execute_result"
    }
   ],
   "source": [
    "df.shape"
   ]
  },
  {
   "cell_type": "code",
   "execution_count": 63,
   "id": "e3dbfcb3",
   "metadata": {},
   "outputs": [
    {
     "data": {
      "text/html": [
       "<div>\n",
       "<style scoped>\n",
       "    .dataframe tbody tr th:only-of-type {\n",
       "        vertical-align: middle;\n",
       "    }\n",
       "\n",
       "    .dataframe tbody tr th {\n",
       "        vertical-align: top;\n",
       "    }\n",
       "\n",
       "    .dataframe thead th {\n",
       "        text-align: right;\n",
       "    }\n",
       "</style>\n",
       "<table border=\"1\" class=\"dataframe\">\n",
       "  <thead>\n",
       "    <tr style=\"text-align: right;\">\n",
       "      <th></th>\n",
       "      <th>Unnamed: 0</th>\n",
       "      <th>Title</th>\n",
       "      <th>Year</th>\n",
       "      <th>Rated</th>\n",
       "      <th>Released</th>\n",
       "      <th>Runtime</th>\n",
       "      <th>Genre</th>\n",
       "      <th>Director</th>\n",
       "      <th>Writer</th>\n",
       "      <th>Actors</th>\n",
       "      <th>Plot</th>\n",
       "      <th>Language</th>\n",
       "      <th>Country</th>\n",
       "      <th>Awards</th>\n",
       "      <th>Poster</th>\n",
       "      <th>Ratings.Source</th>\n",
       "      <th>Ratings.Value</th>\n",
       "      <th>Metascore</th>\n",
       "      <th>imdbRating</th>\n",
       "      <th>imdbVotes</th>\n",
       "      <th>imdbID</th>\n",
       "      <th>Type</th>\n",
       "      <th>tomatoMeter</th>\n",
       "      <th>tomatoImage</th>\n",
       "      <th>tomatoRating</th>\n",
       "      <th>tomatoReviews</th>\n",
       "      <th>tomatoFresh</th>\n",
       "      <th>tomatoRotten</th>\n",
       "      <th>tomatoConsensus</th>\n",
       "      <th>tomatoUserMeter</th>\n",
       "      <th>tomatoUserRating</th>\n",
       "      <th>tomatoUserReviews</th>\n",
       "      <th>tomatoURL</th>\n",
       "      <th>DVD</th>\n",
       "      <th>BoxOffice</th>\n",
       "      <th>Production</th>\n",
       "      <th>Website</th>\n",
       "      <th>Response</th>\n",
       "    </tr>\n",
       "  </thead>\n",
       "  <tbody>\n",
       "    <tr>\n",
       "      <th>0</th>\n",
       "      <td>1</td>\n",
       "      <td>The Shawshank Redemption</td>\n",
       "      <td>1994</td>\n",
       "      <td>R</td>\n",
       "      <td>14 Oct 1994</td>\n",
       "      <td>142 min</td>\n",
       "      <td>Crime, Drama</td>\n",
       "      <td>Frank Darabont</td>\n",
       "      <td>Stephen King (short story \"Rita Hayworth and S...</td>\n",
       "      <td>Tim Robbins, Morgan Freeman, Bob Gunton, Willi...</td>\n",
       "      <td>Two imprisoned men bond over a number of years...</td>\n",
       "      <td>English</td>\n",
       "      <td>USA</td>\n",
       "      <td>Nominated for 7 Oscars. Another 19 wins &amp; 30 n...</td>\n",
       "      <td>https://images-na.ssl-images-amazon.com/images...</td>\n",
       "      <td>Internet Movie Database</td>\n",
       "      <td>9.3/10</td>\n",
       "      <td>80.0</td>\n",
       "      <td>9.3</td>\n",
       "      <td>1,825,626</td>\n",
       "      <td>tt0111161</td>\n",
       "      <td>movie</td>\n",
       "      <td>NaN</td>\n",
       "      <td>NaN</td>\n",
       "      <td>NaN</td>\n",
       "      <td>NaN</td>\n",
       "      <td>NaN</td>\n",
       "      <td>NaN</td>\n",
       "      <td>NaN</td>\n",
       "      <td>NaN</td>\n",
       "      <td>NaN</td>\n",
       "      <td>NaN</td>\n",
       "      <td>http://www.rottentomatoes.com/m/shawshank_rede...</td>\n",
       "      <td>27 Jan 1998</td>\n",
       "      <td>NaN</td>\n",
       "      <td>Columbia Pictures</td>\n",
       "      <td>NaN</td>\n",
       "      <td>True</td>\n",
       "    </tr>\n",
       "    <tr>\n",
       "      <th>1</th>\n",
       "      <td>2</td>\n",
       "      <td>The Godfather</td>\n",
       "      <td>1972</td>\n",
       "      <td>R</td>\n",
       "      <td>24 Mar 1972</td>\n",
       "      <td>175 min</td>\n",
       "      <td>Crime, Drama</td>\n",
       "      <td>Francis Ford Coppola</td>\n",
       "      <td>Mario Puzo (screenplay), Francis Ford Coppola ...</td>\n",
       "      <td>Marlon Brando, Al Pacino, James Caan, Richard ...</td>\n",
       "      <td>The aging patriarch of an organized crime dyna...</td>\n",
       "      <td>English, Italian, Latin</td>\n",
       "      <td>USA</td>\n",
       "      <td>Won 3 Oscars. Another 23 wins &amp; 27 nominations.</td>\n",
       "      <td>https://images-na.ssl-images-amazon.com/images...</td>\n",
       "      <td>Internet Movie Database</td>\n",
       "      <td>9.2/10</td>\n",
       "      <td>100.0</td>\n",
       "      <td>9.2</td>\n",
       "      <td>1,243,444</td>\n",
       "      <td>tt0068646</td>\n",
       "      <td>movie</td>\n",
       "      <td>NaN</td>\n",
       "      <td>NaN</td>\n",
       "      <td>NaN</td>\n",
       "      <td>NaN</td>\n",
       "      <td>NaN</td>\n",
       "      <td>NaN</td>\n",
       "      <td>NaN</td>\n",
       "      <td>NaN</td>\n",
       "      <td>NaN</td>\n",
       "      <td>NaN</td>\n",
       "      <td>http://www.rottentomatoes.com/m/godfather/</td>\n",
       "      <td>09 Oct 2001</td>\n",
       "      <td>NaN</td>\n",
       "      <td>Paramount Pictures</td>\n",
       "      <td>http://www.thegodfather.com</td>\n",
       "      <td>True</td>\n",
       "    </tr>\n",
       "    <tr>\n",
       "      <th>2</th>\n",
       "      <td>3</td>\n",
       "      <td>The Godfather: Part II</td>\n",
       "      <td>1974</td>\n",
       "      <td>R</td>\n",
       "      <td>20 Dec 1974</td>\n",
       "      <td>202 min</td>\n",
       "      <td>Crime, Drama</td>\n",
       "      <td>Francis Ford Coppola</td>\n",
       "      <td>Francis Ford Coppola (screenplay), Mario Puzo ...</td>\n",
       "      <td>Al Pacino, Robert Duvall, Diane Keaton, Robert...</td>\n",
       "      <td>The early life and career of Vito Corleone in ...</td>\n",
       "      <td>English, Italian, Spanish, Latin, Sicilian</td>\n",
       "      <td>USA</td>\n",
       "      <td>Won 6 Oscars. Another 10 wins &amp; 20 nominations.</td>\n",
       "      <td>https://images-na.ssl-images-amazon.com/images...</td>\n",
       "      <td>Internet Movie Database</td>\n",
       "      <td>9.0/10</td>\n",
       "      <td>85.0</td>\n",
       "      <td>9.0</td>\n",
       "      <td>856,870</td>\n",
       "      <td>tt0071562</td>\n",
       "      <td>movie</td>\n",
       "      <td>NaN</td>\n",
       "      <td>NaN</td>\n",
       "      <td>NaN</td>\n",
       "      <td>NaN</td>\n",
       "      <td>NaN</td>\n",
       "      <td>NaN</td>\n",
       "      <td>NaN</td>\n",
       "      <td>NaN</td>\n",
       "      <td>NaN</td>\n",
       "      <td>NaN</td>\n",
       "      <td>http://www.rottentomatoes.com/m/godfather_part...</td>\n",
       "      <td>24 May 2005</td>\n",
       "      <td>NaN</td>\n",
       "      <td>Paramount Pictures</td>\n",
       "      <td>http://www.thegodfather.com/</td>\n",
       "      <td>True</td>\n",
       "    </tr>\n",
       "    <tr>\n",
       "      <th>3</th>\n",
       "      <td>4</td>\n",
       "      <td>The Dark Knight</td>\n",
       "      <td>2008</td>\n",
       "      <td>PG-13</td>\n",
       "      <td>18 Jul 2008</td>\n",
       "      <td>152 min</td>\n",
       "      <td>Action, Crime, Drama</td>\n",
       "      <td>Christopher Nolan</td>\n",
       "      <td>Jonathan Nolan (screenplay), Christopher Nolan...</td>\n",
       "      <td>Christian Bale, Heath Ledger, Aaron Eckhart, M...</td>\n",
       "      <td>When the menace known as the Joker emerges fro...</td>\n",
       "      <td>English, Mandarin</td>\n",
       "      <td>USA, UK</td>\n",
       "      <td>Won 2 Oscars. Another 151 wins &amp; 153 nominations.</td>\n",
       "      <td>https://images-na.ssl-images-amazon.com/images...</td>\n",
       "      <td>Internet Movie Database</td>\n",
       "      <td>9.0/10</td>\n",
       "      <td>82.0</td>\n",
       "      <td>9.0</td>\n",
       "      <td>1,802,351</td>\n",
       "      <td>tt0468569</td>\n",
       "      <td>movie</td>\n",
       "      <td>NaN</td>\n",
       "      <td>NaN</td>\n",
       "      <td>NaN</td>\n",
       "      <td>NaN</td>\n",
       "      <td>NaN</td>\n",
       "      <td>NaN</td>\n",
       "      <td>NaN</td>\n",
       "      <td>NaN</td>\n",
       "      <td>NaN</td>\n",
       "      <td>NaN</td>\n",
       "      <td>http://www.rottentomatoes.com/m/the_dark_knight/</td>\n",
       "      <td>09 Dec 2008</td>\n",
       "      <td>$533,316,061</td>\n",
       "      <td>Warner Bros. Pictures/Legendary</td>\n",
       "      <td>http://thedarkknight.warnerbros.com/</td>\n",
       "      <td>True</td>\n",
       "    </tr>\n",
       "    <tr>\n",
       "      <th>4</th>\n",
       "      <td>5</td>\n",
       "      <td>12 Angry Men</td>\n",
       "      <td>1957</td>\n",
       "      <td>APPROVED</td>\n",
       "      <td>01 Apr 1957</td>\n",
       "      <td>96 min</td>\n",
       "      <td>Crime, Drama</td>\n",
       "      <td>Sidney Lumet</td>\n",
       "      <td>Reginald Rose (story), Reginald Rose (screenplay)</td>\n",
       "      <td>Martin Balsam, John Fiedler, Lee J. Cobb, E.G....</td>\n",
       "      <td>A jury holdout attempts to prevent a miscarria...</td>\n",
       "      <td>English</td>\n",
       "      <td>USA</td>\n",
       "      <td>Nominated for 3 Oscars. Another 16 wins &amp; 8 no...</td>\n",
       "      <td>https://images-na.ssl-images-amazon.com/images...</td>\n",
       "      <td>Internet Movie Database</td>\n",
       "      <td>8.9/10</td>\n",
       "      <td>96.0</td>\n",
       "      <td>8.9</td>\n",
       "      <td>494,215</td>\n",
       "      <td>tt0050083</td>\n",
       "      <td>movie</td>\n",
       "      <td>NaN</td>\n",
       "      <td>NaN</td>\n",
       "      <td>NaN</td>\n",
       "      <td>NaN</td>\n",
       "      <td>NaN</td>\n",
       "      <td>NaN</td>\n",
       "      <td>NaN</td>\n",
       "      <td>NaN</td>\n",
       "      <td>NaN</td>\n",
       "      <td>NaN</td>\n",
       "      <td>http://www.rottentomatoes.com/m/1000013-12_ang...</td>\n",
       "      <td>06 Mar 2001</td>\n",
       "      <td>NaN</td>\n",
       "      <td>Criterion Collection</td>\n",
       "      <td>http://www.criterion.com/films/27871-12-angry-men</td>\n",
       "      <td>True</td>\n",
       "    </tr>\n",
       "  </tbody>\n",
       "</table>\n",
       "</div>"
      ],
      "text/plain": [
       "   Unnamed: 0                     Title  Year     Rated     Released  Runtime  \\\n",
       "0           1  The Shawshank Redemption  1994         R  14 Oct 1994  142 min   \n",
       "1           2             The Godfather  1972         R  24 Mar 1972  175 min   \n",
       "2           3    The Godfather: Part II  1974         R  20 Dec 1974  202 min   \n",
       "3           4           The Dark Knight  2008     PG-13  18 Jul 2008  152 min   \n",
       "4           5              12 Angry Men  1957  APPROVED  01 Apr 1957   96 min   \n",
       "\n",
       "                  Genre              Director  \\\n",
       "0          Crime, Drama        Frank Darabont   \n",
       "1          Crime, Drama  Francis Ford Coppola   \n",
       "2          Crime, Drama  Francis Ford Coppola   \n",
       "3  Action, Crime, Drama     Christopher Nolan   \n",
       "4          Crime, Drama          Sidney Lumet   \n",
       "\n",
       "                                              Writer  \\\n",
       "0  Stephen King (short story \"Rita Hayworth and S...   \n",
       "1  Mario Puzo (screenplay), Francis Ford Coppola ...   \n",
       "2  Francis Ford Coppola (screenplay), Mario Puzo ...   \n",
       "3  Jonathan Nolan (screenplay), Christopher Nolan...   \n",
       "4  Reginald Rose (story), Reginald Rose (screenplay)   \n",
       "\n",
       "                                              Actors  \\\n",
       "0  Tim Robbins, Morgan Freeman, Bob Gunton, Willi...   \n",
       "1  Marlon Brando, Al Pacino, James Caan, Richard ...   \n",
       "2  Al Pacino, Robert Duvall, Diane Keaton, Robert...   \n",
       "3  Christian Bale, Heath Ledger, Aaron Eckhart, M...   \n",
       "4  Martin Balsam, John Fiedler, Lee J. Cobb, E.G....   \n",
       "\n",
       "                                                Plot  \\\n",
       "0  Two imprisoned men bond over a number of years...   \n",
       "1  The aging patriarch of an organized crime dyna...   \n",
       "2  The early life and career of Vito Corleone in ...   \n",
       "3  When the menace known as the Joker emerges fro...   \n",
       "4  A jury holdout attempts to prevent a miscarria...   \n",
       "\n",
       "                                     Language  Country  \\\n",
       "0                                     English      USA   \n",
       "1                     English, Italian, Latin      USA   \n",
       "2  English, Italian, Spanish, Latin, Sicilian      USA   \n",
       "3                           English, Mandarin  USA, UK   \n",
       "4                                     English      USA   \n",
       "\n",
       "                                              Awards  \\\n",
       "0  Nominated for 7 Oscars. Another 19 wins & 30 n...   \n",
       "1    Won 3 Oscars. Another 23 wins & 27 nominations.   \n",
       "2    Won 6 Oscars. Another 10 wins & 20 nominations.   \n",
       "3  Won 2 Oscars. Another 151 wins & 153 nominations.   \n",
       "4  Nominated for 3 Oscars. Another 16 wins & 8 no...   \n",
       "\n",
       "                                              Poster           Ratings.Source  \\\n",
       "0  https://images-na.ssl-images-amazon.com/images...  Internet Movie Database   \n",
       "1  https://images-na.ssl-images-amazon.com/images...  Internet Movie Database   \n",
       "2  https://images-na.ssl-images-amazon.com/images...  Internet Movie Database   \n",
       "3  https://images-na.ssl-images-amazon.com/images...  Internet Movie Database   \n",
       "4  https://images-na.ssl-images-amazon.com/images...  Internet Movie Database   \n",
       "\n",
       "  Ratings.Value  Metascore  imdbRating  imdbVotes     imdbID   Type  \\\n",
       "0        9.3/10       80.0         9.3  1,825,626  tt0111161  movie   \n",
       "1        9.2/10      100.0         9.2  1,243,444  tt0068646  movie   \n",
       "2        9.0/10       85.0         9.0    856,870  tt0071562  movie   \n",
       "3        9.0/10       82.0         9.0  1,802,351  tt0468569  movie   \n",
       "4        8.9/10       96.0         8.9    494,215  tt0050083  movie   \n",
       "\n",
       "   tomatoMeter  tomatoImage  tomatoRating  tomatoReviews  tomatoFresh  \\\n",
       "0          NaN          NaN           NaN            NaN          NaN   \n",
       "1          NaN          NaN           NaN            NaN          NaN   \n",
       "2          NaN          NaN           NaN            NaN          NaN   \n",
       "3          NaN          NaN           NaN            NaN          NaN   \n",
       "4          NaN          NaN           NaN            NaN          NaN   \n",
       "\n",
       "   tomatoRotten  tomatoConsensus  tomatoUserMeter  tomatoUserRating  \\\n",
       "0           NaN              NaN              NaN               NaN   \n",
       "1           NaN              NaN              NaN               NaN   \n",
       "2           NaN              NaN              NaN               NaN   \n",
       "3           NaN              NaN              NaN               NaN   \n",
       "4           NaN              NaN              NaN               NaN   \n",
       "\n",
       "   tomatoUserReviews                                          tomatoURL  \\\n",
       "0                NaN  http://www.rottentomatoes.com/m/shawshank_rede...   \n",
       "1                NaN         http://www.rottentomatoes.com/m/godfather/   \n",
       "2                NaN  http://www.rottentomatoes.com/m/godfather_part...   \n",
       "3                NaN   http://www.rottentomatoes.com/m/the_dark_knight/   \n",
       "4                NaN  http://www.rottentomatoes.com/m/1000013-12_ang...   \n",
       "\n",
       "           DVD     BoxOffice                       Production  \\\n",
       "0  27 Jan 1998           NaN                Columbia Pictures   \n",
       "1  09 Oct 2001           NaN               Paramount Pictures   \n",
       "2  24 May 2005           NaN               Paramount Pictures   \n",
       "3  09 Dec 2008  $533,316,061  Warner Bros. Pictures/Legendary   \n",
       "4  06 Mar 2001           NaN             Criterion Collection   \n",
       "\n",
       "                                             Website  Response  \n",
       "0                                                NaN      True  \n",
       "1                        http://www.thegodfather.com      True  \n",
       "2                       http://www.thegodfather.com/      True  \n",
       "3               http://thedarkknight.warnerbros.com/      True  \n",
       "4  http://www.criterion.com/films/27871-12-angry-men      True  "
      ]
     },
     "execution_count": 63,
     "metadata": {},
     "output_type": "execute_result"
    }
   ],
   "source": [
    "df.head()"
   ]
  },
  {
   "cell_type": "markdown",
   "id": "cc2b79e6",
   "metadata": {},
   "source": [
    "We will base on 'Title', 'Genre', 'Director', 'Actors', 'Plot' to make the recommendation."
   ]
  },
  {
   "cell_type": "code",
   "execution_count": 64,
   "id": "5fdb377c",
   "metadata": {},
   "outputs": [
    {
     "data": {
      "text/html": [
       "<div>\n",
       "<style scoped>\n",
       "    .dataframe tbody tr th:only-of-type {\n",
       "        vertical-align: middle;\n",
       "    }\n",
       "\n",
       "    .dataframe tbody tr th {\n",
       "        vertical-align: top;\n",
       "    }\n",
       "\n",
       "    .dataframe thead th {\n",
       "        text-align: right;\n",
       "    }\n",
       "</style>\n",
       "<table border=\"1\" class=\"dataframe\">\n",
       "  <thead>\n",
       "    <tr style=\"text-align: right;\">\n",
       "      <th></th>\n",
       "      <th>Title</th>\n",
       "      <th>Genre</th>\n",
       "      <th>Director</th>\n",
       "      <th>Actors</th>\n",
       "      <th>Plot</th>\n",
       "    </tr>\n",
       "  </thead>\n",
       "  <tbody>\n",
       "    <tr>\n",
       "      <th>0</th>\n",
       "      <td>The Shawshank Redemption</td>\n",
       "      <td>Crime, Drama</td>\n",
       "      <td>Frank Darabont</td>\n",
       "      <td>Tim Robbins, Morgan Freeman, Bob Gunton, Willi...</td>\n",
       "      <td>Two imprisoned men bond over a number of years...</td>\n",
       "    </tr>\n",
       "    <tr>\n",
       "      <th>1</th>\n",
       "      <td>The Godfather</td>\n",
       "      <td>Crime, Drama</td>\n",
       "      <td>Francis Ford Coppola</td>\n",
       "      <td>Marlon Brando, Al Pacino, James Caan, Richard ...</td>\n",
       "      <td>The aging patriarch of an organized crime dyna...</td>\n",
       "    </tr>\n",
       "    <tr>\n",
       "      <th>2</th>\n",
       "      <td>The Godfather: Part II</td>\n",
       "      <td>Crime, Drama</td>\n",
       "      <td>Francis Ford Coppola</td>\n",
       "      <td>Al Pacino, Robert Duvall, Diane Keaton, Robert...</td>\n",
       "      <td>The early life and career of Vito Corleone in ...</td>\n",
       "    </tr>\n",
       "    <tr>\n",
       "      <th>3</th>\n",
       "      <td>The Dark Knight</td>\n",
       "      <td>Action, Crime, Drama</td>\n",
       "      <td>Christopher Nolan</td>\n",
       "      <td>Christian Bale, Heath Ledger, Aaron Eckhart, M...</td>\n",
       "      <td>When the menace known as the Joker emerges fro...</td>\n",
       "    </tr>\n",
       "    <tr>\n",
       "      <th>4</th>\n",
       "      <td>12 Angry Men</td>\n",
       "      <td>Crime, Drama</td>\n",
       "      <td>Sidney Lumet</td>\n",
       "      <td>Martin Balsam, John Fiedler, Lee J. Cobb, E.G....</td>\n",
       "      <td>A jury holdout attempts to prevent a miscarria...</td>\n",
       "    </tr>\n",
       "  </tbody>\n",
       "</table>\n",
       "</div>"
      ],
      "text/plain": [
       "                      Title                 Genre              Director  \\\n",
       "0  The Shawshank Redemption          Crime, Drama        Frank Darabont   \n",
       "1             The Godfather          Crime, Drama  Francis Ford Coppola   \n",
       "2    The Godfather: Part II          Crime, Drama  Francis Ford Coppola   \n",
       "3           The Dark Knight  Action, Crime, Drama     Christopher Nolan   \n",
       "4              12 Angry Men          Crime, Drama          Sidney Lumet   \n",
       "\n",
       "                                              Actors  \\\n",
       "0  Tim Robbins, Morgan Freeman, Bob Gunton, Willi...   \n",
       "1  Marlon Brando, Al Pacino, James Caan, Richard ...   \n",
       "2  Al Pacino, Robert Duvall, Diane Keaton, Robert...   \n",
       "3  Christian Bale, Heath Ledger, Aaron Eckhart, M...   \n",
       "4  Martin Balsam, John Fiedler, Lee J. Cobb, E.G....   \n",
       "\n",
       "                                                Plot  \n",
       "0  Two imprisoned men bond over a number of years...  \n",
       "1  The aging patriarch of an organized crime dyna...  \n",
       "2  The early life and career of Vito Corleone in ...  \n",
       "3  When the menace known as the Joker emerges fro...  \n",
       "4  A jury holdout attempts to prevent a miscarria...  "
      ]
     },
     "execution_count": 64,
     "metadata": {},
     "output_type": "execute_result"
    }
   ],
   "source": [
    "df = df[['Title', 'Genre', 'Director', 'Actors', 'Plot']]\n",
    "df.head()"
   ]
  },
  {
   "cell_type": "code",
   "execution_count": 65,
   "id": "e21bfd54",
   "metadata": {},
   "outputs": [],
   "source": [
    "# we take only first 3 actors (for faster computing)\n",
    "df['Actors'] = df['Actors'].map(lambda x: x.split(',')[:3])"
   ]
  },
  {
   "cell_type": "code",
   "execution_count": 66,
   "id": "87b5e6db",
   "metadata": {},
   "outputs": [
    {
     "data": {
      "text/plain": [
       "0            [Tim Robbins,  Morgan Freeman,  Bob Gunton]\n",
       "1               [Marlon Brando,  Al Pacino,  James Caan]\n",
       "2             [Al Pacino,  Robert Duvall,  Diane Keaton]\n",
       "3        [Christian Bale,  Heath Ledger,  Aaron Eckhart]\n",
       "4           [Martin Balsam,  John Fiedler,  Lee J. Cobb]\n",
       "                             ...                        \n",
       "245           [Ray Milland,  Jane Wyman,  Phillip Terry]\n",
       "246    [Brie Larson,  John Gallagher Jr.,  Stephanie ...\n",
       "247      [Cary Grant,  Rosalind Russell,  Ralph Bellamy]\n",
       "248    [Sissy Spacek,  Jane Galloway Heitz,  Joseph A...\n",
       "249           [Dev Patel,  Saurabh Shukla,  Anil Kapoor]\n",
       "Name: Actors, Length: 250, dtype: object"
      ]
     },
     "execution_count": 66,
     "metadata": {},
     "output_type": "execute_result"
    }
   ],
   "source": [
    "df['Actors']"
   ]
  },
  {
   "cell_type": "code",
   "execution_count": 67,
   "id": "c3dd6cef",
   "metadata": {},
   "outputs": [
    {
     "data": {
      "text/plain": [
       "0                 [crime,  drama]\n",
       "1                 [crime,  drama]\n",
       "2                 [crime,  drama]\n",
       "3        [action,  crime,  drama]\n",
       "4                 [crime,  drama]\n",
       "                  ...            \n",
       "245           [drama,  film-noir]\n",
       "246                       [drama]\n",
       "247    [comedy,  drama,  romance]\n",
       "248           [biography,  drama]\n",
       "249                       [drama]\n",
       "Name: Genre, Length: 250, dtype: object"
      ]
     },
     "execution_count": 67,
     "metadata": {},
     "output_type": "execute_result"
    }
   ],
   "source": [
    "df['Genre'] = df['Genre'].map(lambda x: x.lower().split(','))\n",
    "df['Genre']"
   ]
  },
  {
   "cell_type": "code",
   "execution_count": 68,
   "id": "4d02be66",
   "metadata": {},
   "outputs": [
    {
     "data": {
      "text/plain": [
       "0                      [Frank, Darabont]\n",
       "1               [Francis, Ford, Coppola]\n",
       "2               [Francis, Ford, Coppola]\n",
       "3                   [Christopher, Nolan]\n",
       "4                        [Sidney, Lumet]\n",
       "                     ...                \n",
       "245                      [Billy, Wilder]\n",
       "246            [Destin, Daniel, Cretton]\n",
       "247                      [Howard, Hawks]\n",
       "248                       [David, Lynch]\n",
       "249    [Danny, Boyle,, Loveleen, Tandan]\n",
       "Name: Director, Length: 250, dtype: object"
      ]
     },
     "execution_count": 68,
     "metadata": {},
     "output_type": "execute_result"
    }
   ],
   "source": [
    "df['Director'] = df['Director'].map(lambda x: x.split(' '))\n",
    "df['Director']"
   ]
  },
  {
   "cell_type": "code",
   "execution_count": 69,
   "id": "a66c86d9",
   "metadata": {},
   "outputs": [],
   "source": [
    "for index, row in df.iterrows():\n",
    "    row['Actors'] = [x.lower().replace(' ', '') for x in row['Actors']]\n",
    "    row['Director'] = ''.join(row['Director']).lower()"
   ]
  },
  {
   "cell_type": "code",
   "execution_count": 70,
   "id": "a8f6d889",
   "metadata": {},
   "outputs": [
    {
     "data": {
      "text/plain": [
       "0                 [timrobbins, morganfreeman, bobgunton]\n",
       "1                    [marlonbrando, alpacino, jamescaan]\n",
       "2                  [alpacino, robertduvall, dianekeaton]\n",
       "3             [christianbale, heathledger, aaroneckhart]\n",
       "4                 [martinbalsam, johnfiedler, leej.cobb]\n",
       "                             ...                        \n",
       "245                [raymilland, janewyman, phillipterry]\n",
       "246     [brielarson, johngallagherjr., stephaniebeatriz]\n",
       "247           [carygrant, rosalindrussell, ralphbellamy]\n",
       "248    [sissyspacek, janegallowayheitz, josepha.carpe...\n",
       "249                [devpatel, saurabhshukla, anilkapoor]\n",
       "Name: Actors, Length: 250, dtype: object"
      ]
     },
     "execution_count": 70,
     "metadata": {},
     "output_type": "execute_result"
    }
   ],
   "source": [
    "df['Actors']"
   ]
  },
  {
   "cell_type": "code",
   "execution_count": 71,
   "id": "fd3c0e54",
   "metadata": {},
   "outputs": [
    {
     "data": {
      "text/plain": [
       "0                  frankdarabont\n",
       "1             francisfordcoppola\n",
       "2             francisfordcoppola\n",
       "3               christophernolan\n",
       "4                    sidneylumet\n",
       "                 ...            \n",
       "245                  billywilder\n",
       "246          destindanielcretton\n",
       "247                  howardhawks\n",
       "248                   davidlynch\n",
       "249    dannyboyle,loveleentandan\n",
       "Name: Director, Length: 250, dtype: object"
      ]
     },
     "execution_count": 71,
     "metadata": {},
     "output_type": "execute_result"
    }
   ],
   "source": [
    "df['Director']"
   ]
  },
  {
   "cell_type": "code",
   "execution_count": 72,
   "id": "cb45cada",
   "metadata": {},
   "outputs": [
    {
     "name": "stderr",
     "output_type": "stream",
     "text": [
      "[nltk_data] Downloading package stopwords to\n",
      "[nltk_data]     /Users/anastasia/nltk_data...\n",
      "[nltk_data]   Package stopwords is already up-to-date!\n",
      "[nltk_data] Downloading package punkt to /Users/anastasia/nltk_data...\n",
      "[nltk_data]   Package punkt is already up-to-date!\n"
     ]
    },
    {
     "data": {
      "text/plain": [
       "True"
      ]
     },
     "execution_count": 72,
     "metadata": {},
     "output_type": "execute_result"
    }
   ],
   "source": [
    "import rake_nltk\n",
    "from rake_nltk import Rake #for extracting significant keywords\n",
    "import nltk\n",
    "nltk.download('stopwords')\n",
    "nltk.download('punkt')"
   ]
  },
  {
   "cell_type": "code",
   "execution_count": 73,
   "id": "54c872a1",
   "metadata": {},
   "outputs": [],
   "source": [
    "# extracting keywords\n",
    "\n",
    "df['Key_words'] = ''\n",
    "\n",
    "for index, row in df.iterrows():\n",
    "    plot = row['Plot']\n",
    "    \n",
    "    r = Rake()\n",
    "    \n",
    "    r.extract_keywords_from_text(plot)\n",
    "    \n",
    "    key_words_dict_scores = r.get_word_degrees()\n",
    "    \n",
    "    row['Key_words'] = list(key_words_dict_scores.keys())\n",
    "    \n",
    "df.drop(columns = ['Plot'], inplace = True)    "
   ]
  },
  {
   "cell_type": "code",
   "execution_count": 74,
   "id": "e0b433cb",
   "metadata": {},
   "outputs": [
    {
     "data": {
      "text/html": [
       "<div>\n",
       "<style scoped>\n",
       "    .dataframe tbody tr th:only-of-type {\n",
       "        vertical-align: middle;\n",
       "    }\n",
       "\n",
       "    .dataframe tbody tr th {\n",
       "        vertical-align: top;\n",
       "    }\n",
       "\n",
       "    .dataframe thead th {\n",
       "        text-align: right;\n",
       "    }\n",
       "</style>\n",
       "<table border=\"1\" class=\"dataframe\">\n",
       "  <thead>\n",
       "    <tr style=\"text-align: right;\">\n",
       "      <th></th>\n",
       "      <th>Title</th>\n",
       "      <th>Genre</th>\n",
       "      <th>Director</th>\n",
       "      <th>Actors</th>\n",
       "      <th>Key_words</th>\n",
       "    </tr>\n",
       "  </thead>\n",
       "  <tbody>\n",
       "    <tr>\n",
       "      <th>0</th>\n",
       "      <td>The Shawshank Redemption</td>\n",
       "      <td>[crime,  drama]</td>\n",
       "      <td>frankdarabont</td>\n",
       "      <td>[timrobbins, morganfreeman, bobgunton]</td>\n",
       "      <td>[two, imprisoned, men, bond, number, years, fi...</td>\n",
       "    </tr>\n",
       "    <tr>\n",
       "      <th>1</th>\n",
       "      <td>The Godfather</td>\n",
       "      <td>[crime,  drama]</td>\n",
       "      <td>francisfordcoppola</td>\n",
       "      <td>[marlonbrando, alpacino, jamescaan]</td>\n",
       "      <td>[aging, patriarch, organized, crime, dynasty, ...</td>\n",
       "    </tr>\n",
       "    <tr>\n",
       "      <th>2</th>\n",
       "      <td>The Godfather: Part II</td>\n",
       "      <td>[crime,  drama]</td>\n",
       "      <td>francisfordcoppola</td>\n",
       "      <td>[alpacino, robertduvall, dianekeaton]</td>\n",
       "      <td>[early, life, career, vito, corleone, 1920s, n...</td>\n",
       "    </tr>\n",
       "    <tr>\n",
       "      <th>3</th>\n",
       "      <td>The Dark Knight</td>\n",
       "      <td>[action,  crime,  drama]</td>\n",
       "      <td>christophernolan</td>\n",
       "      <td>[christianbale, heathledger, aaroneckhart]</td>\n",
       "      <td>[menace, known, joker, emerges, mysterious, pa...</td>\n",
       "    </tr>\n",
       "    <tr>\n",
       "      <th>4</th>\n",
       "      <td>12 Angry Men</td>\n",
       "      <td>[crime,  drama]</td>\n",
       "      <td>sidneylumet</td>\n",
       "      <td>[martinbalsam, johnfiedler, leej.cobb]</td>\n",
       "      <td>[jury, holdout, attempts, prevent, miscarriage...</td>\n",
       "    </tr>\n",
       "  </tbody>\n",
       "</table>\n",
       "</div>"
      ],
      "text/plain": [
       "                      Title                     Genre            Director  \\\n",
       "0  The Shawshank Redemption           [crime,  drama]       frankdarabont   \n",
       "1             The Godfather           [crime,  drama]  francisfordcoppola   \n",
       "2    The Godfather: Part II           [crime,  drama]  francisfordcoppola   \n",
       "3           The Dark Knight  [action,  crime,  drama]    christophernolan   \n",
       "4              12 Angry Men           [crime,  drama]         sidneylumet   \n",
       "\n",
       "                                       Actors  \\\n",
       "0      [timrobbins, morganfreeman, bobgunton]   \n",
       "1         [marlonbrando, alpacino, jamescaan]   \n",
       "2       [alpacino, robertduvall, dianekeaton]   \n",
       "3  [christianbale, heathledger, aaroneckhart]   \n",
       "4      [martinbalsam, johnfiedler, leej.cobb]   \n",
       "\n",
       "                                           Key_words  \n",
       "0  [two, imprisoned, men, bond, number, years, fi...  \n",
       "1  [aging, patriarch, organized, crime, dynasty, ...  \n",
       "2  [early, life, career, vito, corleone, 1920s, n...  \n",
       "3  [menace, known, joker, emerges, mysterious, pa...  \n",
       "4  [jury, holdout, attempts, prevent, miscarriage...  "
      ]
     },
     "execution_count": 74,
     "metadata": {},
     "output_type": "execute_result"
    }
   ],
   "source": [
    "df.head()"
   ]
  },
  {
   "cell_type": "code",
   "execution_count": 75,
   "id": "07db5cc0",
   "metadata": {},
   "outputs": [
    {
     "data": {
      "text/html": [
       "<div>\n",
       "<style scoped>\n",
       "    .dataframe tbody tr th:only-of-type {\n",
       "        vertical-align: middle;\n",
       "    }\n",
       "\n",
       "    .dataframe tbody tr th {\n",
       "        vertical-align: top;\n",
       "    }\n",
       "\n",
       "    .dataframe thead th {\n",
       "        text-align: right;\n",
       "    }\n",
       "</style>\n",
       "<table border=\"1\" class=\"dataframe\">\n",
       "  <thead>\n",
       "    <tr style=\"text-align: right;\">\n",
       "      <th></th>\n",
       "      <th>Genre</th>\n",
       "      <th>Director</th>\n",
       "      <th>Actors</th>\n",
       "      <th>Key_words</th>\n",
       "    </tr>\n",
       "    <tr>\n",
       "      <th>Title</th>\n",
       "      <th></th>\n",
       "      <th></th>\n",
       "      <th></th>\n",
       "      <th></th>\n",
       "    </tr>\n",
       "  </thead>\n",
       "  <tbody>\n",
       "    <tr>\n",
       "      <th>The Shawshank Redemption</th>\n",
       "      <td>[crime,  drama]</td>\n",
       "      <td>frankdarabont</td>\n",
       "      <td>[timrobbins, morganfreeman, bobgunton]</td>\n",
       "      <td>[two, imprisoned, men, bond, number, years, fi...</td>\n",
       "    </tr>\n",
       "    <tr>\n",
       "      <th>The Godfather</th>\n",
       "      <td>[crime,  drama]</td>\n",
       "      <td>francisfordcoppola</td>\n",
       "      <td>[marlonbrando, alpacino, jamescaan]</td>\n",
       "      <td>[aging, patriarch, organized, crime, dynasty, ...</td>\n",
       "    </tr>\n",
       "    <tr>\n",
       "      <th>The Godfather: Part II</th>\n",
       "      <td>[crime,  drama]</td>\n",
       "      <td>francisfordcoppola</td>\n",
       "      <td>[alpacino, robertduvall, dianekeaton]</td>\n",
       "      <td>[early, life, career, vito, corleone, 1920s, n...</td>\n",
       "    </tr>\n",
       "    <tr>\n",
       "      <th>The Dark Knight</th>\n",
       "      <td>[action,  crime,  drama]</td>\n",
       "      <td>christophernolan</td>\n",
       "      <td>[christianbale, heathledger, aaroneckhart]</td>\n",
       "      <td>[menace, known, joker, emerges, mysterious, pa...</td>\n",
       "    </tr>\n",
       "    <tr>\n",
       "      <th>12 Angry Men</th>\n",
       "      <td>[crime,  drama]</td>\n",
       "      <td>sidneylumet</td>\n",
       "      <td>[martinbalsam, johnfiedler, leej.cobb]</td>\n",
       "      <td>[jury, holdout, attempts, prevent, miscarriage...</td>\n",
       "    </tr>\n",
       "  </tbody>\n",
       "</table>\n",
       "</div>"
      ],
      "text/plain": [
       "                                             Genre            Director  \\\n",
       "Title                                                                    \n",
       "The Shawshank Redemption           [crime,  drama]       frankdarabont   \n",
       "The Godfather                      [crime,  drama]  francisfordcoppola   \n",
       "The Godfather: Part II             [crime,  drama]  francisfordcoppola   \n",
       "The Dark Knight           [action,  crime,  drama]    christophernolan   \n",
       "12 Angry Men                       [crime,  drama]         sidneylumet   \n",
       "\n",
       "                                                              Actors  \\\n",
       "Title                                                                  \n",
       "The Shawshank Redemption      [timrobbins, morganfreeman, bobgunton]   \n",
       "The Godfather                    [marlonbrando, alpacino, jamescaan]   \n",
       "The Godfather: Part II         [alpacino, robertduvall, dianekeaton]   \n",
       "The Dark Knight           [christianbale, heathledger, aaroneckhart]   \n",
       "12 Angry Men                  [martinbalsam, johnfiedler, leej.cobb]   \n",
       "\n",
       "                                                                  Key_words  \n",
       "Title                                                                        \n",
       "The Shawshank Redemption  [two, imprisoned, men, bond, number, years, fi...  \n",
       "The Godfather             [aging, patriarch, organized, crime, dynasty, ...  \n",
       "The Godfather: Part II    [early, life, career, vito, corleone, 1920s, n...  \n",
       "The Dark Knight           [menace, known, joker, emerges, mysterious, pa...  \n",
       "12 Angry Men              [jury, holdout, attempts, prevent, miscarriage...  "
      ]
     },
     "execution_count": 75,
     "metadata": {},
     "output_type": "execute_result"
    }
   ],
   "source": [
    "df.set_index('Title', inplace = True)\n",
    "df.head()"
   ]
  },
  {
   "cell_type": "code",
   "execution_count": 76,
   "id": "88b69605",
   "metadata": {},
   "outputs": [],
   "source": [
    "df['bag_of_words'] = ''\n",
    "columns = df.columns\n",
    "\n",
    "for index,row in df.iterrows():\n",
    "    words = ''\n",
    "    for col in columns:\n",
    "        if col == 'Director':\n",
    "            words = words + row[col] + ' '\n",
    "        else:\n",
    "            words = words + ' '.join(row[col]) + ' '\n",
    "    row['bag_of_words'] = words\n",
    "\n",
    "df.drop(columns = [col for col in df.columns if col != 'bag_of_words'], inplace= True)"
   ]
  },
  {
   "cell_type": "code",
   "execution_count": 77,
   "id": "6a5673d3",
   "metadata": {},
   "outputs": [
    {
     "data": {
      "text/html": [
       "<div>\n",
       "<style scoped>\n",
       "    .dataframe tbody tr th:only-of-type {\n",
       "        vertical-align: middle;\n",
       "    }\n",
       "\n",
       "    .dataframe tbody tr th {\n",
       "        vertical-align: top;\n",
       "    }\n",
       "\n",
       "    .dataframe thead th {\n",
       "        text-align: right;\n",
       "    }\n",
       "</style>\n",
       "<table border=\"1\" class=\"dataframe\">\n",
       "  <thead>\n",
       "    <tr style=\"text-align: right;\">\n",
       "      <th></th>\n",
       "      <th>bag_of_words</th>\n",
       "    </tr>\n",
       "    <tr>\n",
       "      <th>Title</th>\n",
       "      <th></th>\n",
       "    </tr>\n",
       "  </thead>\n",
       "  <tbody>\n",
       "    <tr>\n",
       "      <th>The Shawshank Redemption</th>\n",
       "      <td>crime  drama frankdarabont timrobbins morganfr...</td>\n",
       "    </tr>\n",
       "    <tr>\n",
       "      <th>The Godfather</th>\n",
       "      <td>crime  drama francisfordcoppola marlonbrando a...</td>\n",
       "    </tr>\n",
       "    <tr>\n",
       "      <th>The Godfather: Part II</th>\n",
       "      <td>crime  drama francisfordcoppola alpacino rober...</td>\n",
       "    </tr>\n",
       "    <tr>\n",
       "      <th>The Dark Knight</th>\n",
       "      <td>action  crime  drama christophernolan christia...</td>\n",
       "    </tr>\n",
       "    <tr>\n",
       "      <th>12 Angry Men</th>\n",
       "      <td>crime  drama sidneylumet martinbalsam johnfied...</td>\n",
       "    </tr>\n",
       "  </tbody>\n",
       "</table>\n",
       "</div>"
      ],
      "text/plain": [
       "                                                               bag_of_words\n",
       "Title                                                                      \n",
       "The Shawshank Redemption  crime  drama frankdarabont timrobbins morganfr...\n",
       "The Godfather             crime  drama francisfordcoppola marlonbrando a...\n",
       "The Godfather: Part II    crime  drama francisfordcoppola alpacino rober...\n",
       "The Dark Knight           action  crime  drama christophernolan christia...\n",
       "12 Angry Men              crime  drama sidneylumet martinbalsam johnfied..."
      ]
     },
     "execution_count": 77,
     "metadata": {},
     "output_type": "execute_result"
    }
   ],
   "source": [
    "df.head()"
   ]
  },
  {
   "cell_type": "code",
   "execution_count": 78,
   "id": "e11742a5",
   "metadata": {},
   "outputs": [],
   "source": [
    "# installing and generating count matrix\n",
    "\n",
    "count = CountVectorizer()\n",
    "count_matrix = count.fit_transform(df['bag_of_words'])"
   ]
  },
  {
   "cell_type": "code",
   "execution_count": 79,
   "id": "2f5af041",
   "metadata": {},
   "outputs": [
    {
     "data": {
      "text/plain": [
       "<250x2961 sparse matrix of type '<class 'numpy.int64'>'\n",
       "\twith 5342 stored elements in Compressed Sparse Row format>"
      ]
     },
     "execution_count": 79,
     "metadata": {},
     "output_type": "execute_result"
    }
   ],
   "source": [
    "count_matrix"
   ]
  },
  {
   "cell_type": "code",
   "execution_count": 80,
   "id": "d647941d",
   "metadata": {},
   "outputs": [
    {
     "data": {
      "text/plain": [
       "matrix([[0, 0, 0, ..., 0, 0, 0],\n",
       "        [0, 0, 0, ..., 0, 0, 0],\n",
       "        [0, 0, 0, ..., 0, 0, 0],\n",
       "        ...,\n",
       "        [0, 0, 0, ..., 0, 0, 0],\n",
       "        [0, 0, 0, ..., 0, 0, 0],\n",
       "        [0, 0, 0, ..., 0, 0, 0]])"
      ]
     },
     "execution_count": 80,
     "metadata": {},
     "output_type": "execute_result"
    }
   ],
   "source": [
    "c = count_matrix.todense()\n",
    "c"
   ]
  },
  {
   "cell_type": "code",
   "execution_count": 83,
   "id": "020fcedc",
   "metadata": {},
   "outputs": [
    {
     "name": "stdout",
     "output_type": "stream",
     "text": [
      "  (0, 584)\t1\n",
      "  (0, 768)\t1\n",
      "  (0, 1011)\t1\n",
      "  (0, 2678)\t1\n",
      "  (0, 1810)\t1\n",
      "  (0, 306)\t1\n",
      "  (0, 2765)\t1\n",
      "  (0, 1269)\t1\n",
      "  (0, 1733)\t1\n",
      "  (0, 311)\t1\n",
      "  (0, 1899)\t1\n",
      "  (0, 2950)\t1\n",
      "  (0, 969)\t1\n",
      "  (0, 2481)\t1\n",
      "  (0, 888)\t1\n",
      "  (0, 2174)\t1\n",
      "  (0, 59)\t1\n",
      "  (0, 519)\t1\n",
      "  (0, 655)\t1\n"
     ]
    }
   ],
   "source": [
    "print(count_matrix[0,:])"
   ]
  },
  {
   "cell_type": "code",
   "execution_count": 85,
   "id": "1db07700",
   "metadata": {},
   "outputs": [
    {
     "data": {
      "text/plain": [
       "array([[1.        , 0.15789474, 0.13764944, ..., 0.05263158, 0.05263158,\n",
       "        0.05564149],\n",
       "       [0.15789474, 1.        , 0.36706517, ..., 0.05263158, 0.05263158,\n",
       "        0.05564149],\n",
       "       [0.13764944, 0.36706517, 1.        , ..., 0.04588315, 0.04588315,\n",
       "        0.04850713],\n",
       "       ...,\n",
       "       [0.05263158, 0.05263158, 0.04588315, ..., 1.        , 0.05263158,\n",
       "        0.05564149],\n",
       "       [0.05263158, 0.05263158, 0.04588315, ..., 0.05263158, 1.        ,\n",
       "        0.05564149],\n",
       "       [0.05564149, 0.05564149, 0.04850713, ..., 0.05564149, 0.05564149,\n",
       "        1.        ]])"
      ]
     },
     "execution_count": 85,
     "metadata": {},
     "output_type": "execute_result"
    }
   ],
   "source": [
    "# generating cosine similarity matrix\n",
    "\n",
    "cosine_sim = cosine_similarity(count_matrix, count_matrix)\n",
    "cosine_sim"
   ]
  },
  {
   "cell_type": "code",
   "execution_count": 86,
   "id": "fee0014e",
   "metadata": {},
   "outputs": [
    {
     "data": {
      "text/plain": [
       "0                              The Shawshank Redemption\n",
       "1                                         The Godfather\n",
       "2                                The Godfather: Part II\n",
       "3                                       The Dark Knight\n",
       "4                                          12 Angry Men\n",
       "5                                      Schindler's List\n",
       "6         The Lord of the Rings: The Return of the King\n",
       "7                                          Pulp Fiction\n",
       "8                                            Fight Club\n",
       "9     The Lord of the Rings: The Fellowship of the Ring\n",
       "10                                         Forrest Gump\n",
       "11       Star Wars: Episode V - The Empire Strikes Back\n",
       "12                                            Inception\n",
       "13                The Lord of the Rings: The Two Towers\n",
       "14                      One Flew Over the Cuckoo's Nest\n",
       "15                                           Goodfellas\n",
       "16                                           The Matrix\n",
       "17                   Star Wars: Episode IV - A New Hope\n",
       "18                                                Se7en\n",
       "19                                It's a Wonderful Life\n",
       "Name: Title, dtype: object"
      ]
     },
     "execution_count": 86,
     "metadata": {},
     "output_type": "execute_result"
    }
   ],
   "source": [
    "# creating a Series for the movie titles (an ordered numerical list)\n",
    "indices = pd.Series(df.index)\n",
    "indices[:20]"
   ]
  },
  {
   "cell_type": "code",
   "execution_count": 87,
   "id": "ec43d68e",
   "metadata": {},
   "outputs": [
    {
     "data": {
      "text/plain": [
       "(250, 250)"
      ]
     },
     "execution_count": 87,
     "metadata": {},
     "output_type": "execute_result"
    }
   ],
   "source": [
    "cosine_sim.shape"
   ]
  },
  {
   "cell_type": "code",
   "execution_count": 88,
   "id": "87f16396",
   "metadata": {},
   "outputs": [],
   "source": [
    "# function that takes in movie title as input and returns the top 10 recomennded movies\n",
    "\n",
    "def recommendations(title, cosine_sim = cosine_sim):\n",
    "    \n",
    "    recommended_movies = []\n",
    "    \n",
    "    # getting the index of the movie that matces the title\n",
    "    idx = indices[indices == title].index[0]\n",
    "    \n",
    "    # creating a Series with the similarity scores in descending order\n",
    "    score_series = pd.Series(cosine_sim[idx]).sort_values(ascending = False)\n",
    "    \n",
    "    top_10_indexes = list(score_series.iloc[1:11].index)\n",
    "    print(top_10_indexes)\n",
    "    \n",
    "    for i in top_10_indexes:\n",
    "        recommended_movies.append(list(df.index)[i])\n",
    "    \n",
    "    return recommended_movies"
   ]
  },
  {
   "cell_type": "code",
   "execution_count": 90,
   "id": "692362c8",
   "metadata": {},
   "outputs": [
    {
     "name": "stdout",
     "output_type": "stream",
     "text": [
      "[9, 13, 243, 95, 168, 29, 119, 64, 145, 78]\n"
     ]
    },
    {
     "data": {
      "text/plain": [
       "['The Lord of the Rings: The Fellowship of the Ring',\n",
       " 'The Lord of the Rings: The Two Towers',\n",
       " 'Big Fish',\n",
       " 'The Great Escape',\n",
       " 'Harry Potter and the Deathly Hallows: Part 2',\n",
       " 'The Green Mile',\n",
       " 'The Message',\n",
       " 'Lawrence of Arabia',\n",
       " 'Song of the Sea',\n",
       " 'Inglourious Basterds']"
      ]
     },
     "execution_count": 90,
     "metadata": {},
     "output_type": "execute_result"
    }
   ],
   "source": [
    "recommendations('The Lord of the Rings: The Return of the King')"
   ]
  },
  {
   "cell_type": "code",
   "execution_count": 91,
   "id": "5ca67369",
   "metadata": {},
   "outputs": [
    {
     "name": "stdout",
     "output_type": "stream",
     "text": [
      "[80, 24, 186, 247, 175, 118, 191, 154, 106, 231]\n"
     ]
    },
    {
     "data": {
      "text/plain": [
       "['The Apartment',\n",
       " 'City Lights',\n",
       " 'Roman Holiday',\n",
       " 'His Girl Friday',\n",
       " 'Annie Hall',\n",
       " 'Gone with the Wind',\n",
       " 'Groundhog Day',\n",
       " 'Brief Encounter',\n",
       " 'La La Land',\n",
       " 'The Graduate']"
      ]
     },
     "execution_count": 91,
     "metadata": {},
     "output_type": "execute_result"
    }
   ],
   "source": [
    "recommendations('Forrest Gump')"
   ]
  },
  {
   "cell_type": "code",
   "execution_count": null,
   "id": "0e051cb3",
   "metadata": {},
   "outputs": [],
   "source": []
  }
 ],
 "metadata": {
  "kernelspec": {
   "display_name": "Python 3 (ipykernel)",
   "language": "python",
   "name": "python3"
  },
  "language_info": {
   "codemirror_mode": {
    "name": "ipython",
    "version": 3
   },
   "file_extension": ".py",
   "mimetype": "text/x-python",
   "name": "python",
   "nbconvert_exporter": "python",
   "pygments_lexer": "ipython3",
   "version": "3.9.12"
  }
 },
 "nbformat": 4,
 "nbformat_minor": 5
}
